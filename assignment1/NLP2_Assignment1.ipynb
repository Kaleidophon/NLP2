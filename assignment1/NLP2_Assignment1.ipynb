{
 "cells": [
  {
   "cell_type": "code",
   "execution_count": 1,
   "metadata": {},
   "outputs": [],
   "source": [
    "# libraries\n",
    "import pickle\n",
    "import numpy as np\n",
    "from itertools import product\n",
    "from collections import defaultdict\n",
    "from IPython.display import clear_output"
   ]
  },
  {
   "cell_type": "code",
   "execution_count": 2,
   "metadata": {
    "collapsed": false
   },
   "outputs": [],
   "source": [
    "f = open(\"training/hansards.36.2.e\", \"r\", encoding=\"utf8\") \n",
    "english = [line.strip().lower().split() for line in f.readlines()]\n",
    "f.close()\n",
    "f = open(\"training/hansards.36.2.f\", \"r\", encoding=\"utf8\")\n",
    "french = [line.strip().lower().split() for line in f.readlines()]\n",
    "f.close()"
   ]
  },
  {
   "cell_type": "code",
   "execution_count": 3,
   "metadata": {
    "collapsed": false
   },
   "outputs": [
    {
     "name": "stdout",
     "output_type": "stream",
     "text": [
      "231164\n"
     ]
    }
   ],
   "source": [
    "translations = list(zip(english, french))\n",
    "N = len(translations)\n",
    "print(N)"
   ]
  },
  {
   "cell_type": "code",
   "execution_count": 4,
   "metadata": {
    "collapsed": true
   },
   "outputs": [
    {
     "name": "stdout",
     "output_type": "stream",
     "text": [
      "100 %\n"
     ]
    }
   ],
   "source": [
    "## this cell computes the RFEs (takes ~15 mins)\n",
    "\n",
    "word_pair_counts = defaultdict(lambda: defaultdict(float))\n",
    "\n",
    "# count the occurences of each french word given the english word\n",
    "for t, (english, french) in enumerate(translations):\n",
    "        \n",
    "    # print percentage    \n",
    "    clear_output(wait=True)\n",
    "    print('{:0.0f}'.format(t/N*100), '%')\n",
    "    \n",
    "    # create list of possible alignments\n",
    "    e_length = len(english)\n",
    "    f_length = len(french)\n",
    "    alignments = list(product(range(e_length), range(f_length)))\n",
    "    \n",
    "    # count word pair occurences\n",
    "    for e_i, f_i in alignments:\n",
    "        english_word = english[e_i]\n",
    "        french_word = french[f_i]\n",
    "        \n",
    "        word_pair_counts[english_word][french_word] += 1\n",
    "\n",
    "rfe = dict(word_pair_counts)\n",
    "\n",
    "# compute the RFEs (divide the (f|e) word count by the total count of the (e) word)\n",
    "for english_word, french_word_counts in rfe.items():\n",
    "    total_occurences = sum(french_word_counts.values())\n",
    "    for french_word in rfe[english_word]:\n",
    "        word_count = rfe[english_word][french_word]\n",
    "        rfe[english_word][french_word] = word_count / total_occurences\n",
    "        \n",
    "# save to pickle\n",
    "pickle.dump(rfe, open('pickles/rfe.pkl', 'wb'))"
   ]
  },
  {
   "cell_type": "code",
   "execution_count": 6,
   "metadata": {},
   "outputs": [
    {
     "name": "stdout",
     "output_type": "stream",
     "text": [
      "True\n"
     ]
    }
   ],
   "source": [
    "# quick check if everything sums (approx) to 1\n",
    "not_one = []\n",
    "for _, probs in rfe.items():\n",
    "    prob_sum = sum(probs.values())\n",
    "    if prob_sum != 1.0:\n",
    "        not_one.append(prob_sum)\n",
    "not_one = np.array(not_one)\n",
    "print(len(not_one[not_one < 0.99999999999]) == 0)"
   ]
  },
  {
   "cell_type": "markdown",
   "metadata": {},
   "source": [
    "# IBM1 EM Algorithm"
   ]
  },
  {
   "cell_type": "code",
   "execution_count": null,
   "metadata": {},
   "outputs": [],
   "source": []
  },
  {
   "cell_type": "markdown",
   "metadata": {},
   "source": [
    "# IBM1 Variational Inference"
   ]
  },
  {
   "cell_type": "code",
   "execution_count": null,
   "metadata": {
    "collapsed": true
   },
   "outputs": [],
   "source": []
  },
  {
   "cell_type": "markdown",
   "metadata": {},
   "source": [
    "# IBM2"
   ]
  },
  {
   "cell_type": "code",
   "execution_count": null,
   "metadata": {
    "collapsed": true
   },
   "outputs": [],
   "source": []
  }
 ],
 "metadata": {
  "anaconda-cloud": {},
  "kernelspec": {
   "display_name": "Python 3",
   "language": "python",
   "name": "python3"
  },
  "language_info": {
   "codemirror_mode": {
    "name": "ipython",
    "version": 3
   },
   "file_extension": ".py",
   "mimetype": "text/x-python",
   "name": "python",
   "nbconvert_exporter": "python",
   "pygments_lexer": "ipython3",
   "version": "3.5.2"
  }
 },
 "nbformat": 4,
 "nbformat_minor": 2
}
