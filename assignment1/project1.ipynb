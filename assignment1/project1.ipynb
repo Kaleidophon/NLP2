{
 "cells": [
  {
   "cell_type": "markdown",
   "metadata": {},
   "source": [
    "<h1>**IBM Model 1**</h1>\n",
    "\n",
    "1. a) Implement EM training (Brown et al., 1993) for IBM model 1; <br />\n",
    "    b) Implement variational inference for Bayesian IBM model 1; <br />\n",
    "    c) All of the tasks below should be performed for both models.<br />\n",
    "2. Plot the evolution of training log likelihood (or ELBO) as a function of the iteration.\n",
    "3. Plot the evolution of alignment error rate (AER) on validation data as a function of the iteration;\n",
    "4. Experiment with two criteria for model selection (i.e. deciding on number of training iterations): \n",
    "    1) convergence in terms of training log likelihood; \n",
    "    2) best AER on validation data;\n",
    "5. For the selected models, obtain Viterbi alignments for every sentence pair in a test\n",
    "corpus and compute AER using a gold-standard provided by the assistant;"
   ]
  },
  {
   "cell_type": "code",
   "execution_count": 9,
   "metadata": {},
   "outputs": [],
   "source": [
    "import aer\n",
    "from collections import defaultdict, Counter\n",
    "from math import log2\n",
    "import numpy as np\n",
    "from random import randint\n",
    "import progressbar\n",
    "import matplotlib.pyplot as plt\n",
    "from scipy.special import digamma, gammaln "
   ]
  },
  {
   "cell_type": "code",
   "execution_count": 31,
   "metadata": {},
   "outputs": [
    {
     "name": "stdout",
     "output_type": "stream",
     "text": [
      "Read training source corpus\n",
      "Read training target corpus\n",
      "Read validation corpora\n"
     ]
    }
   ],
   "source": [
    "def read_corpus(file_name, source_language):\n",
    "    \"\"\"\n",
    "    Reads the corpus and saves each sentence in a list.\n",
    "    \"\"\"\n",
    "    \n",
    "    corpus = []\n",
    "    \n",
    "    with open(file_name, \"r\", encoding='utf8') as f:\n",
    "        for line in f:\n",
    "            line = line.replace(\"\\n\", \"\")\n",
    "            sentence = line.split()\n",
    "            \n",
    "            if source_language:\n",
    "                sentence.insert(0, \"null\")\n",
    "            corpus.append(sentence)\n",
    "    return corpus[:2000]\n",
    "\n",
    "\n",
    "def reduce_corpus(corpus):\n",
    "    \"\"\"\n",
    "    Reduces the vocabulary of the corpus by replacing each word that only\n",
    "    occurs once in the vocabulary by -LOW- in the corpus.\n",
    "    \"\"\"\n",
    "    \n",
    "    flat_corpus = [word for sentence in corpus for word in sentence]\n",
    "    word_counts = Counter(flat_corpus)\n",
    "    small_corpus = []\n",
    "    \n",
    "    for sentence in corpus:\n",
    "        small_sentence = []\n",
    "        \n",
    "        for word in sentence:\n",
    "            if word_counts[word] != 1:\n",
    "                small_sentence.append(word)\n",
    "            else:\n",
    "                small_sentence.append(\"-LOW-\")\n",
    "        small_corpus.append(small_sentence)\n",
    "    return small_corpus\n",
    "\n",
    "    \n",
    "train_source = read_corpus(\"training/hansards.36.2.e\", True)\n",
    "train_source = reduce_corpus(train_source)\n",
    "print(\"Read training source corpus\")\n",
    "train_target = read_corpus(\"training/hansards.36.2.f\", False)\n",
    "train_target = reduce_corpus(train_target)\n",
    "print(\"Read training target corpus\")\n",
    "val_source = read_corpus(\"validation/dev.e\", True)\n",
    "val_target = read_corpus(\"validation/dev.f\", False)\n",
    "print(\"Read validation corpora\")"
   ]
  },
  {
   "cell_type": "code",
   "execution_count": 37,
   "metadata": {
    "scrolled": true
   },
   "outputs": [
    {
     "name": "stderr",
     "output_type": "stream",
     "text": [
      " 11% (228 of 2000) |##                    | Elapsed Time: 0:00:00 ETA:  0:00:01"
     ]
    },
    {
     "name": "stdout",
     "output_type": "stream",
     "text": [
      "Initialising parameters...\n",
      "Iteration #0 out of 9\n",
      "Doing E-step...\n"
     ]
    },
    {
     "name": "stderr",
     "output_type": "stream",
     "text": [
      "100% (2000 of 2000) |#####################| Elapsed Time: 0:00:01 Time: 0:00:01\n",
      "100% (2444 of 2444) |#####################| Elapsed Time: 0:00:00 Time: 0:00:00\n"
     ]
    },
    {
     "name": "stdout",
     "output_type": "stream",
     "text": [
      "Doing M-step...\n"
     ]
    },
    {
     "name": "stderr",
     "output_type": "stream",
     "text": [
      "  8% (178 of 2000) |#                     | Elapsed Time: 0:00:00 ETA:  0:00:01"
     ]
    },
    {
     "name": "stdout",
     "output_type": "stream",
     "text": [
      "0.518597236981934\n",
      "Iteration #1 out of 9\n",
      "Doing E-step...\n"
     ]
    },
    {
     "name": "stderr",
     "output_type": "stream",
     "text": [
      "100% (2000 of 2000) |#####################| Elapsed Time: 0:00:01 Time: 0:00:01\n",
      "100% (2444 of 2444) |#####################| Elapsed Time: 0:00:00 Time: 0:00:00\n"
     ]
    },
    {
     "name": "stdout",
     "output_type": "stream",
     "text": [
      "Doing M-step...\n"
     ]
    },
    {
     "name": "stderr",
     "output_type": "stream",
     "text": [
      " 13% (279 of 2000) |###                   | Elapsed Time: 0:00:00 ETA:  0:00:00"
     ]
    },
    {
     "name": "stdout",
     "output_type": "stream",
     "text": [
      "0.4720430107526882\n",
      "Iteration #2 out of 9\n",
      "Doing E-step...\n"
     ]
    },
    {
     "name": "stderr",
     "output_type": "stream",
     "text": [
      "100% (2000 of 2000) |#####################| Elapsed Time: 0:00:01 Time: 0:00:01\n",
      "100% (2444 of 2444) |#####################| Elapsed Time: 0:00:00 Time: 0:00:00\n"
     ]
    },
    {
     "name": "stdout",
     "output_type": "stream",
     "text": [
      "Doing M-step...\n"
     ]
    },
    {
     "name": "stderr",
     "output_type": "stream",
     "text": [
      " 15% (304 of 2000) |###                   | Elapsed Time: 0:00:00 ETA:  0:00:00"
     ]
    },
    {
     "name": "stdout",
     "output_type": "stream",
     "text": [
      "0.47634408602150535\n",
      "Iteration #3 out of 9\n",
      "Doing E-step...\n"
     ]
    },
    {
     "name": "stderr",
     "output_type": "stream",
     "text": [
      "100% (2000 of 2000) |#####################| Elapsed Time: 0:00:01 Time: 0:00:01\n",
      "100% (2444 of 2444) |#####################| Elapsed Time: 0:00:00 Time: 0:00:00\n"
     ]
    },
    {
     "name": "stdout",
     "output_type": "stream",
     "text": [
      "Doing M-step...\n"
     ]
    },
    {
     "name": "stderr",
     "output_type": "stream",
     "text": [
      " 11% (228 of 2000) |##                    | Elapsed Time: 0:00:00 ETA:  0:00:00"
     ]
    },
    {
     "name": "stdout",
     "output_type": "stream",
     "text": [
      "0.48064516129032253\n",
      "Iteration #4 out of 9\n",
      "Doing E-step...\n"
     ]
    },
    {
     "name": "stderr",
     "output_type": "stream",
     "text": [
      "100% (2000 of 2000) |#####################| Elapsed Time: 0:00:01 Time: 0:00:01\n",
      "100% (2444 of 2444) |#####################| Elapsed Time: 0:00:00 Time: 0:00:00\n"
     ]
    },
    {
     "name": "stdout",
     "output_type": "stream",
     "text": [
      "Doing M-step...\n"
     ]
    },
    {
     "name": "stderr",
     "output_type": "stream",
     "text": [
      " 15% (304 of 2000) |###                   | Elapsed Time: 0:00:00 ETA:  0:00:00"
     ]
    },
    {
     "name": "stdout",
     "output_type": "stream",
     "text": [
      "0.43795620437956206\n",
      "Iteration #5 out of 9\n",
      "Doing E-step...\n"
     ]
    },
    {
     "name": "stderr",
     "output_type": "stream",
     "text": [
      "100% (2000 of 2000) |#####################| Elapsed Time: 0:00:01 Time: 0:00:01\n",
      "100% (2444 of 2444) |#####################| Elapsed Time: 0:00:00 Time: 0:00:00\n"
     ]
    },
    {
     "name": "stdout",
     "output_type": "stream",
     "text": [
      "Doing M-step...\n"
     ]
    },
    {
     "name": "stderr",
     "output_type": "stream",
     "text": [
      " 15% (304 of 2000) |###                   | Elapsed Time: 0:00:00 ETA:  0:00:00"
     ]
    },
    {
     "name": "stdout",
     "output_type": "stream",
     "text": [
      "0.43169968717413976\n",
      "Iteration #6 out of 9\n",
      "Doing E-step...\n"
     ]
    },
    {
     "name": "stderr",
     "output_type": "stream",
     "text": [
      "100% (2000 of 2000) |#####################| Elapsed Time: 0:00:01 Time: 0:00:01\n",
      "100% (2444 of 2444) |#####################| Elapsed Time: 0:00:00 Time: 0:00:00\n"
     ]
    },
    {
     "name": "stdout",
     "output_type": "stream",
     "text": [
      "Doing M-step...\n"
     ]
    },
    {
     "name": "stderr",
     "output_type": "stream",
     "text": [
      " 13% (279 of 2000) |###                   | Elapsed Time: 0:00:00 ETA:  0:00:01"
     ]
    },
    {
     "name": "stdout",
     "output_type": "stream",
     "text": [
      "0.4369134515119917\n",
      "Iteration #7 out of 9\n",
      "Doing E-step...\n"
     ]
    },
    {
     "name": "stderr",
     "output_type": "stream",
     "text": [
      "100% (2000 of 2000) |#####################| Elapsed Time: 0:00:01 Time: 0:00:01\n",
      "100% (2444 of 2444) |#####################| Elapsed Time: 0:00:00 Time: 0:00:00\n"
     ]
    },
    {
     "name": "stdout",
     "output_type": "stream",
     "text": [
      "Doing M-step...\n"
     ]
    },
    {
     "name": "stderr",
     "output_type": "stream",
     "text": [
      " 11% (228 of 2000) |##                    | Elapsed Time: 0:00:00 ETA:  0:00:01"
     ]
    },
    {
     "name": "stdout",
     "output_type": "stream",
     "text": [
      "0.44525547445255476\n",
      "Iteration #8 out of 9\n",
      "Doing E-step...\n"
     ]
    },
    {
     "name": "stderr",
     "output_type": "stream",
     "text": [
      "100% (2000 of 2000) |#####################| Elapsed Time: 0:00:01 Time: 0:00:01\n",
      "100% (2444 of 2444) |#####################| Elapsed Time: 0:00:00 Time: 0:00:00\n"
     ]
    },
    {
     "name": "stdout",
     "output_type": "stream",
     "text": [
      "Doing M-step...\n"
     ]
    },
    {
     "name": "stderr",
     "output_type": "stream",
     "text": [
      " 13% (279 of 2000) |###                   | Elapsed Time: 0:00:00 ETA:  0:00:00"
     ]
    },
    {
     "name": "stdout",
     "output_type": "stream",
     "text": [
      "0.45151199165797706\n",
      "Iteration #9 out of 9\n",
      "Doing E-step...\n"
     ]
    },
    {
     "name": "stderr",
     "output_type": "stream",
     "text": [
      "100% (2000 of 2000) |#####################| Elapsed Time: 0:00:01 Time: 0:00:01\n",
      "100% (2444 of 2444) |#####################| Elapsed Time: 0:00:00 Time: 0:00:00\n"
     ]
    },
    {
     "name": "stdout",
     "output_type": "stream",
     "text": [
      "Doing M-step...\n",
      "0.45359749739311783\n"
     ]
    }
   ],
   "source": [
    "def initialise_parameters(source_corpus, target_corpus):\n",
    "    \"\"\"\n",
    "    Initialises the conditional probability of generating a source \n",
    "    word from a target word for all possible pairs of words in the source \n",
    "    and target sentences to 5 and then normalises the parameters such that \n",
    "    the initialisation is uniform.\n",
    "    \"\"\"\n",
    "    \n",
    "    flat_corpus = [word for sentence in source_corpus for word in sentence]\n",
    "    amount_source_words = len(set(flat_corpus))\n",
    "    theta0 = 1/amount_source_words\n",
    "    return defaultdict(lambda: defaultdict(lambda: theta0))\n",
    "\n",
    "\n",
    "def expectation_maximisation(train_source, train_target, val_source,\n",
    "                             val_target, parameters, num_iterations, \n",
    "                             min_perplexity_change):\n",
    "    \"\"\"\n",
    "    Do the EM algorithm until perplexity decreases very little or until \n",
    "    the number of iterations is reached.\n",
    "    \"\"\"\n",
    "    \n",
    "    old_perplexity = -100000\n",
    "    perplexities = []\n",
    "    aers = []\n",
    "    \n",
    "    for k in range(0, num_iterations):\n",
    "        print(\"Iteration #\" + str(k), \"out of\", num_iterations - 1)\n",
    "        counts_single = defaultdict(lambda: 1.0)\n",
    "        counts_pairs = defaultdict(lambda: defaultdict(float))\n",
    "        counts_single, counts_pairs = e_step(train_source, train_target,\n",
    "                                             parameters, counts_single, \n",
    "                                             counts_pairs)\n",
    "        parameters = m_step(parameters, counts_single, counts_pairs)\n",
    "        perplexity = compute_perplexity(parameters, train_source, train_target)\n",
    "        alignments = get_best_alignment(val_source, val_target, parameters)\n",
    "        aers.append(compute_aer(alignments))\n",
    "        perplexities.append(perplexity)\n",
    "        \n",
    "        if abs(perplexity - old_perplexity) < min_perplexity_change:\n",
    "            return perplexities, aers\n",
    "        else:\n",
    "            old_perplexity = perplexity\n",
    "    return perplexities, aers\n",
    "    \n",
    "    \n",
    "def e_step(source_corpus, target_corpus, parameters, counts_single, \n",
    "           counts_pairs):\n",
    "    \"\"\"\n",
    "    Do the E-step by computing the expected counts.\n",
    "    \"\"\"\n",
    "    \n",
    "    print(\"Doing E-step...\")\n",
    "    \n",
    "    with progressbar.ProgressBar(max_value=len(target_corpus)) as bar:\n",
    "        for n in range(len(target_corpus)):\n",
    "            target_sentence = target_corpus[n]\n",
    "            source_sentence = source_corpus[n]\n",
    "\n",
    "            for i in range(len(target_sentence)):\n",
    "                normalisation_term = 0\n",
    "                target_word = target_sentence[i]\n",
    "\n",
    "                for j in range(len(source_sentence)):\n",
    "                    source_word = source_sentence[j]\n",
    "                    normalisation_term += parameters[source_word][target_word]\n",
    "                for j in range(len(source_sentence)):\n",
    "                    source_word = source_sentence[j]\n",
    "                    expected_count = parameters[source_word][target_word]/normalisation_term\n",
    "                    counts_pairs[source_word][target_word] += expected_count\n",
    "                    counts_single[source_word] += expected_count\n",
    "            bar.update(n)\n",
    "    return counts_single, counts_pairs\n",
    "\n",
    "\n",
    "def m_step(parameters, counts_single, counts_pairs):\n",
    "    \"\"\"\n",
    "    Do the M-step by normalising the parameters.\n",
    "    \"\"\"\n",
    "    \n",
    "    print(\"Doing M-step...\")\n",
    "    \n",
    "    with progressbar.ProgressBar(max_value=len(counts_pairs)) as bar:\n",
    "        i = 0\n",
    "        for source_word, target_words in counts_pairs.items():\n",
    "            for target_word, expected_count in target_words.items():\n",
    "                parameters[source_word][target_word] = expected_count/counts_single[source_word]\n",
    "            i += 1\n",
    "            bar.update(i)\n",
    "    return parameters\n",
    "\n",
    "\n",
    "def compute_perplexity(parameters, source_corpus, target_corpus):\n",
    "    \"\"\"\n",
    "    Computes the perplexity of the corpus.\n",
    "    \"\"\"\n",
    "    \n",
    "    perplexity = 0\n",
    "    \n",
    "    for n in range(len(source_corpus)):\n",
    "        source_sentence = source_corpus[n]\n",
    "        target_sentence = target_corpus[n]\n",
    "        log_sentence = 0\n",
    "        \n",
    "        for target_word in target_sentence: \n",
    "            log_sum = []\n",
    "            \n",
    "            for source_word in source_sentence: \n",
    "                log_sum.append(parameters[source_word][target_word])\n",
    "            log_sentence += np.log(np.sum(log_sum))\n",
    "        perplexity += log_sentence\n",
    "    return perplexity\n",
    "   \n",
    "    \n",
    "def get_best_alignment(source_corpus, target_corpus, parameters):\n",
    "    \"\"\"\n",
    "    Gets the best alignment for each sentence and saves the alignment\n",
    "    in a list of lists that holds tuples for each position in the sentence\n",
    "    and looks as follows:\n",
    "    (sentence_index, target_word_index, source_word_index).\n",
    "    \"\"\"\n",
    "    \n",
    "    alignments = []\n",
    "    \n",
    "    for n in range(len(source_corpus)):\n",
    "        source_sentence = source_corpus[n]\n",
    "        target_sentence = target_corpus[n]\n",
    "        alignment = []\n",
    "        \n",
    "        for i in range(len(target_sentence)):\n",
    "            target_word = target_sentence[i]\n",
    "            best_prob = 0\n",
    "            best_j = 0\n",
    "            \n",
    "            for j in range(len(source_sentence)):\n",
    "                source_word = source_sentence[j]\n",
    "                prob = parameters[source_word][target_word]\n",
    "                \n",
    "                if prob > best_prob:\n",
    "                    best_prob = prob\n",
    "                    best_j = j\n",
    "                    \n",
    "            if best_j != 0:    \n",
    "                alignment.append((n, best_j, i+1))\n",
    "        alignments.append(alignment)\n",
    "    return alignments\n",
    "\n",
    "\n",
    "def compute_aer(predictions):\n",
    "    \"\"\"\n",
    "    Computes the Alignment Error Rate.\n",
    "    \"\"\"\n",
    "    \n",
    "    gold_sets = aer.read_naacl_alignments(\"validation/dev.wa.nonullalign\")\n",
    "    metric = aer.AERSufficientStatistics()\n",
    "    \n",
    "    for gold, prediction in zip(gold_sets, predictions):\n",
    "        prediction = set([(alignment[1], alignment[2]) for alignment in prediction])\n",
    "        metric.update(sure=gold[0], probable=gold[1], predicted=prediction)\n",
    "    print(metric.aer())\n",
    "    return metric.aer()\n",
    "\n",
    "\n",
    "def save_results(perplexities, aers, file_path):\n",
    "    \"\"\"\n",
    "    Saves the obtained results in a text file.\n",
    "    \"\"\"\n",
    "    \n",
    "    with open(file_path, \"w\") as f:\n",
    "        f.write(\"perplexity\\n\")\n",
    "        \n",
    "        for perplexity in perplexities:\n",
    "            f.write(str(perplexity) + \"\\n\")\n",
    "        \n",
    "        f.write(\"\\naer\\n\")\n",
    "        for aer in aers:\n",
    "            f.write(str(aer) + \"\\n\")\n",
    "    f.close()\n",
    "        \n",
    "    \n",
    "print(\"Initialising parameters...\")\n",
    "initial_params = initialise_parameters(train_source, train_target)\n",
    "perplexities, aers = expectation_maximisation(train_source, train_target, \n",
    "                                              val_source, val_target,\n",
    "                                              initial_params, 10, 5)\n",
    "save_results(perplexities, aers, \"results.txt\")"
   ]
  },
  {
   "cell_type": "code",
   "execution_count": 28,
   "metadata": {},
   "outputs": [
    {
     "data": {
      "image/png": "[encoded data removed]",
      "text/plain": [
       "<matplotlib.figure.Figure at 0x7f48734f5940>"
      ]
     },
     "metadata": {},
     "output_type": "display_data"
    },
    {
     "data": {
      "image/png": "[encoded data removed]",
      "text/plain": [
       "<matplotlib.figure.Figure at 0x7f487a33b9b0>"
      ]
     },
     "metadata": {},
     "output_type": "display_data"
    }
   ],
   "source": [
    "plt.plot(np.arange(1, len(perplexities)+1), perplexities)\n",
    "plt.title(\"Evolution of perplexity\")\n",
    "plt.xlabel(\"Iterations\")\n",
    "plt.ylabel(\"Perplexity\")\n",
    "plt.show()\n",
    "\n",
    "plt.plot(np.arange(1, len(aers)+1), aers)\n",
    "plt.title(\"Evolution of AER\")\n",
    "plt.xlabel(\"Iterations\")\n",
    "plt.ylabel(\"AER\")\n",
    "plt.show()"
   ]
  },
  {
   "cell_type": "markdown",
   "metadata": {},
   "source": [
    "<h1>IBM Model 2</h1>"
   ]
  },
  {
   "cell_type": "code",
   "execution_count": 46,
   "metadata": {
    "scrolled": false
   },
   "outputs": [
    {
     "name": "stdout",
     "output_type": "stream",
     "text": [
      "Iteration #0 out of 9\n",
      "-43825.68798942278\n",
      "Iteration #1 out of 9\n",
      "-27689.96652975563\n",
      "Iteration #2 out of 9\n",
      "-20140.260034287454\n",
      "Iteration #3 out of 9\n",
      "-16639.441385113078\n",
      "Iteration #4 out of 9\n",
      "-14863.12229544579\n",
      "Iteration #5 out of 9\n",
      "-13857.374375382915\n",
      "Iteration #6 out of 9\n",
      "-13236.110029144236\n",
      "Iteration #7 out of 9\n",
      "-12827.17973242312\n",
      "Iteration #8 out of 9\n",
      "-12545.325750864758\n",
      "Iteration #9 out of 9\n",
      "-12343.937888886425\n",
      "0.45473465140478664\n"
     ]
    },
    {
     "data": {
      "text/plain": [
       "0.45473465140478664"
      ]
     },
     "execution_count": 46,
     "metadata": {},
     "output_type": "execute_result"
    }
   ],
   "source": [
    "iterations = 10\n",
    "sub = 1\n",
    "\n",
    "\n",
    "def expectation_maximisation2(source_corpus, target_corpus, parameters, \n",
    "                              num_iterations, min_perplexity_change):\n",
    "    \"\"\"\n",
    "    Runs the EM algorithm for IBM Model 2.\n",
    "    \"\"\"\n",
    "    \n",
    "    q = defaultdict(lambda: defaultdict(lambda: defaultdict(lambda: defaultdict(lambda: 0.1))))\n",
    "    old_perplexity = -100000\n",
    "    \n",
    "    for k in range(0, num_iterations):\n",
    "        print(\"Iteration #\" + str(k), \"out of\", num_iterations - 1)\n",
    "        \n",
    "        counts_pairs = defaultdict(lambda: defaultdict(lambda: 0.))\n",
    "        counts_alignments = defaultdict(lambda: defaultdict(lambda: defaultdict(lambda: defaultdict(lambda: 0.))))\n",
    "        counts_single = defaultdict(lambda: 0.)\n",
    "        counts_pairs, counts_single, counts_alignments = e_step2(source_corpus, target_corpus, \n",
    "                                                                 counts_pairs, counts_single, \n",
    "                                                                 counts_alignments, q)\n",
    "        parameters, q = m_step2(parameters, q, counts_alignments, counts_pairs, counts_single)\n",
    "        perplexity = compute_perplexity2(parameters, q, source_corpus, target_corpus)\n",
    "        \n",
    "        if abs(perplexity - old_perplexity) < min_perplexity_change:\n",
    "            return parameters\n",
    "        else:\n",
    "            old_perplexity = perplexity\n",
    "    return parameters        \n",
    "\n",
    "\n",
    "def e_step2(source_corpus, target_corpus, counts_pairs, counts_single, counts_alignments, q):\n",
    "    \"\"\"\n",
    "    Does the E-step for IBM Model 2.\n",
    "    \"\"\"\n",
    "\n",
    "    for n in range(len(source_corpus)):\n",
    "        source_sentence = source_corpus[n]\n",
    "        target_sentence = target_corpus[n]\n",
    "        l = len(source_sentence)\n",
    "        m = len(target_sentence)\n",
    "\n",
    "        for i, target_word in enumerate(target_sentence):\n",
    "            delta_denominator = sum([parameters[source_sentence[j_k]][target_word] for j_k in range(l)])\n",
    "#             delta_denominator = sum([q[j_k][i][l][m]*parameters[source_sentence[j_k]][target_word] for j_k in range(l)])\n",
    "\n",
    "            for j, source_word in enumerate(source_sentence):\n",
    "#                 delta = (q[j][i][l][m]*parameters[source_word][target_word]) / delta_denominator\n",
    "                delta = parameters[source_word][target_word]/delta_denominator\n",
    "\n",
    "                counts_pairs[source_word][target_word] += delta\n",
    "                counts_single[source_word] += delta\n",
    "                counts_alignments[l][m][i][j] += delta\n",
    "    return counts_pairs, counts_single, counts_alignments\n",
    "\n",
    "\n",
    "def m_step2(parameters, q, counts_alignments, counts_pairs, counts_single):\n",
    "    \"\"\"\n",
    "    Does the M-step for IBM Model 2.\n",
    "    \"\"\"\n",
    "    \n",
    "    for j in q.keys():\n",
    "        for i in q[j].keys():\n",
    "            for l in q[j][i].keys():\n",
    "                for m in q[j][i][l].keys():\n",
    "                    q[j][i][l][m] = counts_alignments[l][m][i][j] / sum(counts_alignments[l][m][i].values())\n",
    "    \n",
    "    for source_word, target_words in parameters.items():\n",
    "        for target_word in target_words:\n",
    "            parameters[source_word][target_word] = counts_pairs[source_word][target_word]/counts_single[source_word]\n",
    "    return parameters, q\n",
    "\n",
    "\n",
    "def compute_perplexity2(parameters, q, source_corpus, target_corpus):\n",
    "    \"\"\"\n",
    "    Computes the perplexity of the corpus for IBM Model 2.\n",
    "    \"\"\"\n",
    "    \n",
    "    perplexity = 0\n",
    "    \n",
    "    for n in range(len(source_corpus)):\n",
    "        source_sentence = source_corpus[n]\n",
    "        target_sentence = target_corpus[n]\n",
    "        log_sentence = 0\n",
    "        \n",
    "        for target_word in target_sentence: \n",
    "            log_sum = []\n",
    "            \n",
    "            for source_word in source_sentence: \n",
    "                log_sum.append(parameters[source_word][target_word])\n",
    "            log_sentence += np.log(np.sum(log_sum))\n",
    "        perplexity += log_sentence\n",
    "    print(perplexity)\n",
    "    return perplexity\n",
    "    \n",
    "\n",
    "parameters = initialise_parameters(train_source, train_target)\n",
    "parameters = expectation_maximisation2(train_source, train_target, parameters, \n",
    "                                       10, 5)\n",
    "alignments = get_best_alignment(val_source, val_target, parameters)\n",
    "compute_aer(alignments)"
   ]
  },
  {
   "cell_type": "markdown",
   "metadata": {},
   "source": [
    "# Variational Bayes IBM1"
   ]
  },
  {
   "cell_type": "code",
   "execution_count": 26,
   "metadata": {},
   "outputs": [
    {
     "name": "stdout",
     "output_type": "stream",
     "text": [
      "0 th iteration out of  9\n"
     ]
    },
    {
     "name": "stderr",
     "output_type": "stream",
     "text": [
      "/home/tirza/.local/lib/python3.6/site-packages/ipykernel_launcher.py:111: RuntimeWarning: divide by zero encountered in log\n"
     ]
    },
    {
     "name": "stdout",
     "output_type": "stream",
     "text": [
      "-inf\n",
      "-inf\n",
      "1 th iteration out of  9\n",
      "-35971.71626889991\n",
      "-157037996.0695538\n",
      "2 th iteration out of  9\n",
      "-35202.56378257411\n",
      "-158995845.25507936\n",
      "3 th iteration out of  9\n",
      "-35169.57919076955\n",
      "-159090048.60621175\n",
      "4 th iteration out of  9\n",
      "-35166.35835046255\n",
      "-159100017.14260536\n",
      "5 th iteration out of  9\n",
      "-35165.86683824031\n",
      "-159101597.3414697\n",
      "6 th iteration out of  9\n",
      "-35165.77598545139\n",
      "-159101897.34031513\n",
      "7 th iteration out of  9\n",
      "-35165.75771597888\n",
      "-159101959.2001269\n",
      "8 th iteration out of  9\n",
      "-35165.75388054293\n",
      "-159101972.48514116\n",
      "9 th iteration out of  9\n",
      "-35165.753054372166\n",
      "-159101975.40174392\n"
     ]
    }
   ],
   "source": [
    "def elbo(theta_dict, lambda_dict, train_source, train_target, alpha):\n",
    "\n",
    "    elbo_first_term = compute_perplexity(theta_dict, train_source, train_target)\n",
    "    elbo_second_term = 0\n",
    "\n",
    "    for english_word in english_vocab: \n",
    "        normalization = sum([lambda_dict[english_word][french_word] for french_word in french_vocab])\n",
    "        digamma_normalization = digamma(normalization)\n",
    "        gammaln_normalization = gammaln(normalization)\n",
    "        for french_word in french_vocab: \n",
    "            first_term = digamma(lambda_dict[english_word][french_word]) - digamma_normalization \n",
    "            first_term = first_term * (alpha - lambda_dict[english_word][french_word])\n",
    "            second_term = gammaln(lambda_dict[english_word][french_word]) \n",
    "            third_term = gammaln(alpha)\n",
    "            fourth_term = gammaln(len(french_vocab) * alpha)\n",
    "            elbo_second_term += first_term + second_term - third_term + fourth_term - gammaln_normalization\n",
    "\n",
    "    return elbo_first_term + elbo_second_term\n",
    "\n",
    "\n",
    "alpha = 1\n",
    "iterations = 10 \n",
    "\n",
    "theta_dict = initialise_parameters(train_source, train_target)\n",
    "lambda_dict = initialise_parameters(train_source, train_target)\n",
    "\n",
    "english_vocab = set([word for sentence in train_source for word in sentence])\n",
    "french_vocab = set([word for sentence in train_target for word in sentence])\n",
    "\n",
    "for i in range(iterations): \n",
    "    print(i, 'th iteration out of ', iterations-1)\n",
    "    counts_single = defaultdict(lambda: 1.0)\n",
    "    counts_pairs = defaultdict(lambda: defaultdict(float))\n",
    "    \n",
    "    # e step\n",
    "    for n in range(len(train_source)):\n",
    "        source_sentence = train_source[n]\n",
    "        target_sentence = train_target[n]\n",
    "        \n",
    "        for source_word in source_sentence: \n",
    "            normalization = sum([lambda_dict[source_word][target_word] for target_word in target_sentence])\n",
    "            for target_word in target_sentence: \n",
    "                theta_dict[source_word][target_word] = np.exp(digamma(lambda_dict[source_word][target_word]) - \\\n",
    "                                                              digamma(normalization))\n",
    "    # m step    \n",
    "    for source_word in english_vocab: \n",
    "        target_words = lambda_dict[source_word].keys()\n",
    "        for target_word in target_words:\n",
    "            lambda_dict[source_word][target_word] = alpha + theta_dict[source_word][target_word]\n",
    "    \n",
    "    elbo_iter = elbo(theta_dict, lambda_dict, train_source, train_target, alpha)\n",
    "    print(elbo_iter)"
   ]
  },
  {
   "cell_type": "code",
   "execution_count": 29,
   "metadata": {},
   "outputs": [
    {
     "name": "stdout",
     "output_type": "stream",
     "text": [
      "Sénat\n"
     ]
    },
    {
     "data": {
      "text/plain": [
       "1.0160222191049944"
      ]
     },
     "execution_count": 29,
     "metadata": {},
     "output_type": "execute_result"
    }
   ],
   "source": [
    "import operator \n",
    "\n",
    "print(max(lambda_dict['the'].items(), key=operator.itemgetter(1))[0])\n",
    "lambda_dict['the']['sénateurs']"
   ]
  },
  {
   "cell_type": "code",
   "execution_count": 37,
   "metadata": {},
   "outputs": [
    {
     "data": {
      "text/plain": [
       "-19030.957387138806"
      ]
     },
     "execution_count": 37,
     "metadata": {},
     "output_type": "execute_result"
    }
   ],
   "source": [
    "compute_perplexity(theta_dict, train_source, train_target)"
   ]
  }
 ],
 "metadata": {
  "anaconda-cloud": {},
  "kernelspec": {
   "display_name": "Python 3",
   "language": "python",
   "name": "python3"
  },
  "language_info": {
   "codemirror_mode": {
    "name": "ipython",
    "version": 3
   },
   "file_extension": ".py",
   "mimetype": "text/x-python",
   "name": "python",
   "nbconvert_exporter": "python",
   "pygments_lexer": "ipython3",
   "version": "3.6.1"
  }
 },
 "nbformat": 4,
 "nbformat_minor": 2
}
