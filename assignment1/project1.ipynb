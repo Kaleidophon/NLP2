{
 "cells": [
  {
   "cell_type": "markdown",
   "metadata": {},
   "source": [
    "<h1>**IBM Model 1**</h1>\n",
    "\n",
    "1. a) Implement EM training (Brown et al., 1993) for IBM model 1; <br />\n",
    "    b) Implement variational inference for Bayesian IBM model 1; <br />\n",
    "    c) All of the tasks below should be performed for both models.<br />\n",
    "2. Plot the evolution of training log likelihood (or ELBO) as a function of the iteration.\n",
    "3. Plot the evolution of alignment error rate (AER) on validation data as a function of the iteration;\n",
    "4. Experiment with two criteria for model selection (i.e. deciding on number of training iterations): \n",
    "    1) convergence in terms of training log likelihood; \n",
    "    2) best AER on validation data;\n",
    "5. For the selected models, obtain Viterbi alignments for every sentence pair in a test\n",
    "corpus and compute AER using a gold-standard provided by the assistant;"
   ]
  },
  {
   "cell_type": "code",
   "execution_count": 1,
   "metadata": {
    "collapsed": false
   },
   "outputs": [],
   "source": [
    "import aer\n",
    "from collections import defaultdict, Counter\n",
    "from math import log2\n",
    "import numpy as np\n",
    "from random import randint\n",
    "import progressbar\n",
    "import matplotlib.pyplot as plt\n",
    "from scipy.special import digamma, gammaln "
   ]
  },
  {
   "cell_type": "code",
   "execution_count": 44,
   "metadata": {
    "collapsed": false,
    "scrolled": true
   },
   "outputs": [
    {
     "name": "stdout",
     "output_type": "stream",
     "text": [
      "Read training source corpus\n",
      "Read training target corpus\n",
      "Initialising parameters...\n",
      "Iteration #0 out of 9\n",
      "Doing E-step...\n"
     ]
    },
    {
     "name": "stderr",
     "output_type": "stream",
     "text": [
      "100% (2000 of 2000) |####################| Elapsed Time: 0:00:01 Time:  0:00:01\n",
      "100% (2444 of 2444) |####################| Elapsed Time: 0:00:00 Time:  0:00:00\n"
     ]
    },
    {
     "name": "stdout",
     "output_type": "stream",
     "text": [
      "Doing M-step...\n"
     ]
    },
    {
     "name": "stderr",
     "output_type": "stream",
     "text": [
      " 10% (203 of 2000) |##                   | Elapsed Time: 0:00:00 ETA:   0:00:01"
     ]
    },
    {
     "name": "stdout",
     "output_type": "stream",
     "text": [
      "perplexity: -48081.1072025\n",
      "Iteration #1 out of 9\n",
      "Doing E-step...\n"
     ]
    },
    {
     "name": "stderr",
     "output_type": "stream",
     "text": [
      "100% (2000 of 2000) |####################| Elapsed Time: 0:00:01 Time:  0:00:01\n",
      "100% (2444 of 2444) |####################| Elapsed Time: 0:00:00 Time:  0:00:00\n"
     ]
    },
    {
     "name": "stdout",
     "output_type": "stream",
     "text": [
      "Doing M-step...\n"
     ]
    },
    {
     "name": "stderr",
     "output_type": "stream",
     "text": [
      " 16% (330 of 2000) |###                  | Elapsed Time: 0:00:00 ETA:   0:00:01"
     ]
    },
    {
     "name": "stdout",
     "output_type": "stream",
     "text": [
      "perplexity: -29819.011815\n",
      "Iteration #2 out of 9\n",
      "Doing E-step...\n"
     ]
    },
    {
     "name": "stderr",
     "output_type": "stream",
     "text": [
      "100% (2000 of 2000) |####################| Elapsed Time: 0:00:01 Time:  0:00:01\n",
      "100% (2444 of 2444) |####################| Elapsed Time: 0:00:00 Time:  0:00:00\n"
     ]
    },
    {
     "name": "stdout",
     "output_type": "stream",
     "text": [
      "Doing M-step...\n"
     ]
    },
    {
     "name": "stderr",
     "output_type": "stream",
     "text": [
      "  5% (102 of 2000) |#                    | Elapsed Time: 0:00:00 ETA:   0:00:01"
     ]
    },
    {
     "name": "stdout",
     "output_type": "stream",
     "text": [
      "perplexity: -22276.9701882\n",
      "Iteration #3 out of 9\n",
      "Doing E-step...\n"
     ]
    },
    {
     "name": "stderr",
     "output_type": "stream",
     "text": [
      "100% (2000 of 2000) |####################| Elapsed Time: 0:00:01 Time:  0:00:01\n",
      " 70% (1733 of 2444) |##############      | Elapsed Time: 0:00:00 ETA:   0:00:00"
     ]
    },
    {
     "name": "stdout",
     "output_type": "stream",
     "text": [
      "Doing M-step...\n"
     ]
    },
    {
     "name": "stderr",
     "output_type": "stream",
     "text": [
      "100% (2444 of 2444) |####################| Elapsed Time: 0:00:00 Time:  0:00:00\n",
      " 11% (228 of 2000) |##                   | Elapsed Time: 0:00:00 ETA:   0:00:01"
     ]
    },
    {
     "name": "stdout",
     "output_type": "stream",
     "text": [
      "perplexity: -18854.6144618\n",
      "Iteration #4 out of 9\n",
      "Doing E-step...\n"
     ]
    },
    {
     "name": "stderr",
     "output_type": "stream",
     "text": [
      "100% (2000 of 2000) |####################| Elapsed Time: 0:00:01 Time:  0:00:01\n",
      "100% (2444 of 2444) |####################| Elapsed Time: 0:00:00 Time:  0:00:00\n"
     ]
    },
    {
     "name": "stdout",
     "output_type": "stream",
     "text": [
      "Doing M-step...\n"
     ]
    },
    {
     "name": "stderr",
     "output_type": "stream",
     "text": [
      " 15% (304 of 2000) |###                  | Elapsed Time: 0:00:00 ETA:   0:00:01"
     ]
    },
    {
     "name": "stdout",
     "output_type": "stream",
     "text": [
      "perplexity: -17127.542811\n",
      "Iteration #5 out of 9\n",
      "Doing E-step...\n"
     ]
    },
    {
     "name": "stderr",
     "output_type": "stream",
     "text": [
      "100% (2000 of 2000) |####################| Elapsed Time: 0:00:01 Time:  0:00:01\n",
      "100% (2444 of 2444) |####################| Elapsed Time: 0:00:00 Time:  0:00:00\n"
     ]
    },
    {
     "name": "stdout",
     "output_type": "stream",
     "text": [
      "Doing M-step...\n"
     ]
    },
    {
     "name": "stderr",
     "output_type": "stream",
     "text": [
      " 13% (279 of 2000) |##                   | Elapsed Time: 0:00:00 ETA:   0:00:01"
     ]
    },
    {
     "name": "stdout",
     "output_type": "stream",
     "text": [
      "perplexity: -16148.9557449\n",
      "Iteration #6 out of 9\n",
      "Doing E-step...\n"
     ]
    },
    {
     "name": "stderr",
     "output_type": "stream",
     "text": [
      "100% (2000 of 2000) |####################| Elapsed Time: 0:00:01 Time:  0:00:01\n",
      "100% (2444 of 2444) |####################| Elapsed Time: 0:00:00 Time:  0:00:00\n"
     ]
    },
    {
     "name": "stdout",
     "output_type": "stream",
     "text": [
      "Doing M-step...\n"
     ]
    },
    {
     "name": "stderr",
     "output_type": "stream",
     "text": [
      " 12% (254 of 2000) |##                   | Elapsed Time: 0:00:00 ETA:   0:00:01"
     ]
    },
    {
     "name": "stdout",
     "output_type": "stream",
     "text": [
      "perplexity: -15542.8407332\n",
      "Iteration #7 out of 9\n",
      "Doing E-step...\n"
     ]
    },
    {
     "name": "stderr",
     "output_type": "stream",
     "text": [
      "100% (2000 of 2000) |####################| Elapsed Time: 0:00:01 Time:  0:00:01\n",
      "100% (2444 of 2444) |####################| Elapsed Time: 0:00:00 Time:  0:00:00\n"
     ]
    },
    {
     "name": "stdout",
     "output_type": "stream",
     "text": [
      "Doing M-step...\n"
     ]
    },
    {
     "name": "stderr",
     "output_type": "stream",
     "text": [
      " 12% (254 of 2000) |##                   | Elapsed Time: 0:00:00 ETA:   0:00:01"
     ]
    },
    {
     "name": "stdout",
     "output_type": "stream",
     "text": [
      "perplexity: -15142.5732291\n",
      "Iteration #8 out of 9\n",
      "Doing E-step...\n"
     ]
    },
    {
     "name": "stderr",
     "output_type": "stream",
     "text": [
      "100% (2000 of 2000) |####################| Elapsed Time: 0:00:01 Time:  0:00:01\n",
      "100% (2444 of 2444) |####################| Elapsed Time: 0:00:00 Time:  0:00:00\n"
     ]
    },
    {
     "name": "stdout",
     "output_type": "stream",
     "text": [
      "Doing M-step...\n"
     ]
    },
    {
     "name": "stderr",
     "output_type": "stream",
     "text": [
      " 11% (228 of 2000) |##                   | Elapsed Time: 0:00:00 ETA:   0:00:01"
     ]
    },
    {
     "name": "stdout",
     "output_type": "stream",
     "text": [
      "perplexity: -14865.6773482\n",
      "Iteration #9 out of 9\n",
      "Doing E-step...\n"
     ]
    },
    {
     "name": "stderr",
     "output_type": "stream",
     "text": [
      "100% (2000 of 2000) |####################| Elapsed Time: 0:00:01 Time:  0:00:01\n",
      "100% (2444 of 2444) |####################| Elapsed Time: 0:00:00 Time:  0:00:00\n"
     ]
    },
    {
     "name": "stdout",
     "output_type": "stream",
     "text": [
      "Doing M-step...\n",
      "perplexity: -14667.2393432\n",
      "0.45359749739311783\n"
     ]
    }
   ],
   "source": [
    "def read_corpus(file_name, source_language):\n",
    "    \"\"\"\n",
    "    Reads the corpus and saves each sentence in a list.\n",
    "    \"\"\"\n",
    "    \n",
    "    corpus = []\n",
    "    \n",
    "    with open(file_name, \"r\", encoding='utf8') as f:\n",
    "        for line in f:\n",
    "            line = line.replace(\"\\n\", \"\")\n",
    "            sentence = line.split()\n",
    "            \n",
    "            if source_language:\n",
    "                sentence.insert(0, \"null\")\n",
    "            corpus.append(sentence)\n",
    "    return corpus[:2000]\n",
    "\n",
    "\n",
    "def reduce_corpus(corpus):\n",
    "    flat_corpus = [word for sentence in corpus for word in sentence]\n",
    "    word_counts = Counter(flat_corpus)\n",
    "    small_corpus = []\n",
    "    \n",
    "    for sentence in corpus:\n",
    "        small_sentence = []\n",
    "        \n",
    "        for word in sentence:\n",
    "            if word_counts[word] != 1:\n",
    "                small_sentence.append(word)\n",
    "            else:\n",
    "                small_sentence.append(\"-LOW-\")\n",
    "        small_corpus.append(small_sentence)\n",
    "    return small_corpus\n",
    "    \n",
    "\n",
    "def initialise_parameters(source_corpus, target_corpus):\n",
    "    \"\"\"\n",
    "    Initialises the conditional probability of generating a source \n",
    "    word from a target word for all possible pairs of words in the source \n",
    "    and target sentences to 5 and then normalises the parameters such that \n",
    "    the initialisation is uniform.\n",
    "    \"\"\"\n",
    "    \n",
    "    flat_corpus = [word for sentence in source_corpus for word in sentence]\n",
    "    amount_source_words = len(set(flat_corpus))\n",
    "    theta0 = 1/amount_source_words\n",
    "    return defaultdict(lambda: defaultdict(lambda: theta0))\n",
    "\n",
    "\n",
    "def expectation_maximisation(source_corpus, target_corpus, parameters, \n",
    "                             num_iterations, min_perplexity_change):\n",
    "    \"\"\"\n",
    "    Do the EM algorithm until perplexity decreases very little or until \n",
    "    the number of iterations is reached.\n",
    "    \"\"\"\n",
    "    \n",
    "    old_perplexity = -100000\n",
    "    \n",
    "    for k in range(0, num_iterations):\n",
    "        print(\"Iteration #\" + str(k), \"out of\", num_iterations - 1)\n",
    "        counts_single = defaultdict(lambda: 1.0)\n",
    "        counts_pairs = defaultdict(lambda: defaultdict(float))\n",
    "        counts_alignments = defaultdict(lambda: defaultdict(lambda: defaultdict(lambda: defaultdict(lambda: 0.))))\n",
    "        counts_single, counts_pairs = e_step(source_corpus, target_corpus,\n",
    "                                             parameters, counts_single, \n",
    "                                             counts_pairs)\n",
    "        parameters = m_step(parameters, counts_single, counts_pairs)\n",
    "        perplexity = compute_perplexity(parameters, source_corpus, target_corpus)\n",
    "        print(\"perplexity:\", perplexity)\n",
    "        \n",
    "        if abs(perplexity - old_perplexity) < min_perplexity_change:\n",
    "            return parameters\n",
    "        else:\n",
    "            old_perplexity = perplexity\n",
    "    return parameters\n",
    "    \n",
    "    \n",
    "def e_step(source_corpus, target_corpus, parameters, counts_single, \n",
    "           counts_pairs):\n",
    "    \"\"\"\n",
    "    Do the E-step by computing the expected counts.\n",
    "    \"\"\"\n",
    "    \n",
    "    print(\"Doing E-step...\")\n",
    "    \n",
    "    with progressbar.ProgressBar(max_value=len(target_corpus)) as bar:\n",
    "        for n in range(len(target_corpus)):\n",
    "            target_sentence = target_corpus[n]\n",
    "            source_sentence = source_corpus[n]\n",
    "\n",
    "            for i in range(len(target_sentence)):\n",
    "                normalisation_term = 0\n",
    "                target_word = target_sentence[i]\n",
    "\n",
    "                for j in range(len(source_sentence)):\n",
    "                    source_word = source_sentence[j]\n",
    "                    normalisation_term += parameters[source_word][target_word]\n",
    "                for j in range(len(source_sentence)):\n",
    "                    source_word = source_sentence[j]\n",
    "                    expected_count = parameters[source_word][target_word]/normalisation_term\n",
    "                    counts_pairs[source_word][target_word] += expected_count\n",
    "                    counts_single[source_word] += expected_count\n",
    "            bar.update(n)\n",
    "    return counts_single, counts_pairs\n",
    "\n",
    "\n",
    "def m_step(parameters, counts_single, counts_pairs):\n",
    "    \"\"\"\n",
    "    Do the M-step by normalising the parameters.\n",
    "    \"\"\"\n",
    "    \n",
    "    print(\"Doing M-step...\")\n",
    "    \n",
    "    with progressbar.ProgressBar(max_value=len(counts_pairs)) as bar:\n",
    "        i = 0\n",
    "        for source_word, target_words in counts_pairs.items():\n",
    "            for target_word, expected_count in target_words.items():\n",
    "                parameters[source_word][target_word] = expected_count/counts_single[source_word]\n",
    "            i += 1\n",
    "            bar.update(i)\n",
    "    return parameters\n",
    "\n",
    "\n",
    "def compute_perplexity(theta_dict, source_corpus, target_corpus):\n",
    "    logprobs = []\n",
    "    total_sum = 0\n",
    "    \n",
    "    for n in range(len(source_corpus)):\n",
    "        english_sentence = source_corpus[n]\n",
    "        french_sentence = target_corpus[n]\n",
    "        french_sum = 0\n",
    "        for j in range(len(french_sentence)): \n",
    "            f_j = french_sentence[j]\n",
    "            log_sum = []\n",
    "            for i in range(len(english_sentence)): \n",
    "                e_i = english_sentence[i]\n",
    "                log_sum.append(theta_dict[e_i][f_j])\n",
    "            french_sum += np.log(np.sum(log_sum))\n",
    "        total_sum += french_sum\n",
    "    perplexity = total_sum\n",
    "    return perplexity\n",
    "\n",
    "\n",
    "def calculate_likelihood(source_corpus, target_corpus, parameters):\n",
    "    \"\"\"\n",
    "    Calculates the likelihood over te corpus:\n",
    "    sum_<f,e> sum^m_i=1 log sum^l_j=0 pi_t(target|source) \n",
    "    \"\"\"\n",
    "    \n",
    "    corpus_likelihood = 0\n",
    "    \n",
    "    for n in range(len(source_corpus)):\n",
    "        source_sentence = source_corpus[n]\n",
    "        target_sentence = target_corpus[n]\n",
    "        target_likelihood = 0\n",
    "        \n",
    "        for i in range(len(target_sentence)):\n",
    "            target_word = target_sentence[i]\n",
    "            source_likelihood = 0\n",
    "            \n",
    "            for j in range(len(source_sentence)):\n",
    "                source_word = source_sentence[j]\n",
    "                source_likelihood += parameters[source_word][target_word]\n",
    "            target_likelihood += log2(source_likelihood)\n",
    "        corpus_likelihood += target_likelihood\n",
    "    return corpus_likelihood\n",
    "   \n",
    "    \n",
    "def get_best_alignment(source_corpus, target_corpus, parameters):\n",
    "    \"\"\"\n",
    "    Gets the best alignment for each sentence and saves the alignment\n",
    "    in a list of lists that holds tuples for each position in the sentence\n",
    "    and looks as follows:\n",
    "    (sentence_index, target_word_index, source_word_index).\n",
    "    \"\"\"\n",
    "    \n",
    "    alignments = []\n",
    "    \n",
    "    for n in range(len(source_corpus)):\n",
    "        source_sentence = source_corpus[n]\n",
    "        target_sentence = target_corpus[n]\n",
    "        alignment = []\n",
    "        \n",
    "        for i in range(len(target_sentence)):\n",
    "            target_word = target_sentence[i]\n",
    "            best_prob = 0\n",
    "            best_j = 0\n",
    "            \n",
    "            for j in range(len(source_sentence)):\n",
    "                source_word = source_sentence[j]\n",
    "                prob = parameters[source_word][target_word]\n",
    "                \n",
    "                if prob > best_prob:\n",
    "                    best_prob = prob\n",
    "                    best_j = j\n",
    "                    \n",
    "            if best_j != 0:    \n",
    "                alignment.append((n, best_j, i+1))\n",
    "        alignments.append(alignment)\n",
    "    return alignments\n",
    "\n",
    "\n",
    "def compute_aer(predictions):\n",
    "    gold_sets = aer.read_naacl_alignments(\"validation/dev.wa.nonullalign\")\n",
    "    metric = aer.AERSufficientStatistics()\n",
    "    \n",
    "    for gold, prediction in zip(gold_sets, predictions):\n",
    "        prediction = set([(alignment[1], alignment[2]) for alignment in prediction])\n",
    "        metric.update(sure=gold[0], probable=gold[1], predicted=prediction)\n",
    "    print(metric.aer())\n",
    "    \n",
    "    \n",
    "train_source_corpus = read_corpus(\"training/hansards.36.2.e\", True)\n",
    "train_source_corpus = reduce_corpus(train_source_corpus)\n",
    "print(\"Read training source corpus\")\n",
    "train_target_corpus = read_corpus(\"training/hansards.36.2.f\", False)\n",
    "train_target_corpus = reduce_corpus(train_target_corpus)\n",
    "print(\"Read training target corpus\")\n",
    "val_target_corpus = read_corpus(\"validation/dev.f\", False)\n",
    "val_source_corpus = read_corpus(\"validation/dev.e\", True)\n",
    "\n",
    "print(\"Initialising parameters...\")\n",
    "initial_params = initialise_parameters(train_source_corpus, train_target_corpus)\n",
    "parameters = expectation_maximisation(train_source_corpus, train_target_corpus, \n",
    "                                      initial_params, 10, 5)\n",
    "alignments = get_best_alignment(val_source_corpus, val_target_corpus, parameters)\n",
    "compute_aer(alignments)"
   ]
  },
  {
   "cell_type": "markdown",
   "metadata": {},
   "source": [
    "<h1>IBM Model 2</h1>"
   ]
  },
  {
   "cell_type": "code",
   "execution_count": 16,
   "metadata": {
    "collapsed": false
   },
   "outputs": [
    {
     "name": "stdout",
     "output_type": "stream",
     "text": [
      "Iteration #0 out of 9\n",
      "-43825.6879894\n",
      "Iteration #1 out of 9\n",
      "-27689.9665298\n",
      "Iteration #2 out of 9\n",
      "-17920.2666\n",
      "Iteration #3 out of 9\n",
      "-14109.4795137\n",
      "Iteration #4 out of 9\n",
      "-13396.0014646\n",
      "Iteration #5 out of 9\n",
      "-13721.8589776\n",
      "Iteration #6 out of 9\n",
      "-14185.103931\n",
      "Iteration #7 out of 9\n",
      "-14544.6924467\n",
      "Iteration #8 out of 9\n",
      "-14789.8907897\n",
      "Iteration #9 out of 9\n",
      "-14957.5577081\n",
      "0.4627329192546584\n"
     ]
    }
   ],
   "source": [
    "iterations = 10\n",
    "sub = 1\n",
    "\n",
    "\n",
    "def expectation_maximisation2(source_corpus, target_corpus, parameters, num_iterations, min_perplexity_change):\n",
    "    q = defaultdict(lambda: defaultdict(lambda: defaultdict(lambda: defaultdict(lambda: 0.1))))\n",
    "    old_perplexity = -100000\n",
    "    \n",
    "    for k in range(0, num_iterations):\n",
    "        print(\"Iteration #\" + str(k), \"out of\", num_iterations - 1)\n",
    "        \n",
    "        counts_pairs = defaultdict(lambda: defaultdict(lambda: 0.))\n",
    "        counts_alignments = defaultdict(lambda: defaultdict(lambda: defaultdict(lambda: defaultdict(lambda: 0.))))\n",
    "        counts_single = defaultdict(lambda: 0.)\n",
    "        counts_pairs, counts_single, counts_alignments = e_step2(source_corpus, target_corpus, counts_pairs, counts_single, counts_alignments, q)\n",
    "        parameters, q = m_step2(parameters, q, counts_alignments, counts_pairs, counts_single)\n",
    "        perplexity = compute_perplexity(parameters, source_corpus, target_corpus)\n",
    "        print(perplexity)\n",
    "        \n",
    "        if abs(perplexity - old_perplexity) < min_perplexity_change:\n",
    "            return parameters\n",
    "        else:\n",
    "            old_perplexity = perplexity\n",
    "    return parameters        \n",
    "\n",
    "\n",
    "def e_step2(source_corpus, target_corpus, counts_pairs, counts_single, counts_alignments, q):\n",
    "    for n in range(len(source_corpus)):\n",
    "        source_sentence = source_corpus[n]\n",
    "        target_sentence = target_corpus[n]\n",
    "        l = len(source_sentence)\n",
    "        m = len(target_sentence)\n",
    "\n",
    "        for i, target_word in enumerate(target_sentence):\n",
    "            delta_denominator = sum([q[j_k][i][l][m]*parameters[source_sentence[j_k]][target_word] for j_k in range(l)])\n",
    "\n",
    "            for j, source_word in enumerate(source_sentence):\n",
    "                delta = (q[j][i][l][m]*parameters[source_word][target_word]) / delta_denominator\n",
    "\n",
    "                counts_pairs[source_word][target_word] += delta\n",
    "                counts_single[source_word] += delta\n",
    "                counts_alignments[l][m][i][j] += delta\n",
    "    return counts_pairs, counts_single, counts_alignments\n",
    "\n",
    "\n",
    "def m_step2(parameters, q, counts_alignments, counts_pairs, counts_single):\n",
    "    for j in q.keys():\n",
    "        for i in q[j].keys():\n",
    "            for l in q[j][i].keys():\n",
    "                for m in q[j][i][l].keys():\n",
    "                    q[j][i][l][m] = counts_alignments[l][m][i][j] / sum(counts_alignments[l][m][i].values())\n",
    "    \n",
    "    for source_word, target_words in parameters.items():\n",
    "        for target_word in target_words:\n",
    "            parameters[source_word][target_word] = counts_pairs[source_word][target_word]/counts_single[source_word]\n",
    "    return parameters, q\n",
    "\n",
    "\n",
    "parameters = initialise_parameters(train_source_corpus, train_target_corpus)\n",
    "parameters = expectation_maximisation2(train_source_corpus, train_target_corpus, parameters, \n",
    "                                       10, 5)\n",
    "alignments = get_best_alignment(val_source_corpus, val_target_corpus, parameters)\n",
    "compute_aer(alignments)\n",
    "\n",
    "# q = defaultdict(lambda: defaultdict(lambda: defaultdict(lambda: defaultdict(lambda: 0.1))))\n",
    "# perps = []\n",
    "\n",
    "# for s in range(iterations):\n",
    "    \n",
    "#     print('iteration', s)\n",
    "#     # initialize all counts to 0\n",
    "    \n",
    "#     counts_pairs = defaultdict(lambda: defaultdict(lambda: 0.))\n",
    "#     counts_alignments = defaultdict(lambda: defaultdict(lambda: defaultdict(lambda: defaultdict(lambda: 0.))))\n",
    "#     counts_single = defaultdict(lambda: 0.)\n",
    "    \n",
    "#     for n in range(len(train_source_corpus)):\n",
    "#         source_sentence = train_source_corpus[n]\n",
    "#         target_sentence = train_target_corpus[n]\n",
    "#         l = len(source_sentence)\n",
    "#         m = len(target_sentence)\n",
    "\n",
    "#         for i, target_word in enumerate(target_sentence):\n",
    "#             delta_denominator = sum([q[j_k][i][l][m]*parameters[source_sentence[j_k]][target_word] for j_k in range(l)])\n",
    "            \n",
    "#             for j, source_word in enumerate(source_sentence):\n",
    "#                 delta = (q[j][i][l][m]*parameters[source_word][target_word]) / delta_denominator\n",
    "                \n",
    "#                 counts_pairs[source_word][target_word] += delta\n",
    "#                 counts_single[source_word] += delta\n",
    "#                 counts_alignments[l][m][i][j] += delta\n",
    "                \n",
    "#     for j in q.keys():\n",
    "#         for i in q[j].keys():\n",
    "#             for l in q[j][i].keys():\n",
    "#                 for m in q[j][i][l].keys():\n",
    "#                     q[j][i][l][m] = counts_alignments[l][m][i][j] / sum(counts_alignments[l][m][i].values())\n",
    "    \n",
    "#     for source_word, target_words in parameters.items():\n",
    "#         for target_word in target_words:\n",
    "#             parameters[source_word][target_word] = counts_pairs[source_word][target_word]/counts_single[source_word]\n",
    "                \n",
    "#     perp = compute_perplexity(parameters, train_source_corpus, train_target_corpus)\n",
    "#     perps.append(perp)"
   ]
  },
  {
   "cell_type": "code",
   "execution_count": 19,
   "metadata": {
    "collapsed": false
   },
   "outputs": [
    {
     "data": {
      "image/png": "[encoded data removed]",
      "text/plain": [
       "<matplotlib.figure.Figure at 0x7f98d7404208>"
      ]
     },
     "metadata": {},
     "output_type": "display_data"
    }
   ],
   "source": [
    "plt.plot(perps)\n",
    "plt.show()"
   ]
  },
  {
   "cell_type": "markdown",
   "metadata": {},
   "source": [
    "# Variational Bayes IBM1"
   ]
  },
  {
   "cell_type": "code",
   "execution_count": null,
   "metadata": {
    "collapsed": false
   },
   "outputs": [
    {
     "name": "stdout",
     "output_type": "stream",
     "text": [
      "0 th iteration out of  9\n"
     ]
    },
    {
     "name": "stderr",
     "output_type": "stream",
     "text": [
      "C:\\Users\\Urja\\Anaconda3\\lib\\site-packages\\ipykernel\\__main__.py:138: RuntimeWarning: divide by zero encountered in log\n"
     ]
    }
   ],
   "source": [
    "def elbo(theta_dict, lambda_dict, train_source_corpus, traing_target_corpus, alpha):\n",
    "\n",
    "    elbo_first_term = compute_perplexity(theta_dict, train_source_corpus, train_target_corpus)\n",
    "    elbo_second_term = 0\n",
    "\n",
    "    for english_word in english_vocab: \n",
    "        normalization = sum([lambda_dict[english_word][french_word] for french_word in french_vocab])\n",
    "        digamma_normalization = digamma(normalization)\n",
    "        gammaln_normalization = gammaln(normalization)\n",
    "        for french_word in french_vocab: \n",
    "            first_term = digamma(lambda_dict[english_word][french_word]) - digamma_normalization \n",
    "            first_term = first_term * (alpha - lambda_dict[english_word][french_word])\n",
    "            second_term = gammaln(lambda_dict[english_word][french_word]) \n",
    "            third_term = gammaln(alpha)\n",
    "            fourth_term = gammaln(len(french_vocab) * alpha)\n",
    "            elbo_second_term += first_term + second_term - third_term + fourth_term - gammaln_normalization\n",
    "\n",
    "    return elbo_first_term + elbo_second_term\n",
    "\n",
    "\n",
    "alpha = 1\n",
    "iterations = 10 \n",
    "\n",
    "theta_dict = initialise_parameters(train_source_corpus, train_target_corpus)\n",
    "lambda_dict = initialise_parameters(train_source_corpus, train_target_corpus)\n",
    "\n",
    "english_vocab = set([word for sentence in train_source_corpus for word in sentence])\n",
    "french_vocab = set([word for sentence in train_target_corpus for word in sentence])\n",
    "\n",
    "for i in range(iterations): \n",
    "    print(i, 'th iteration out of ', iterations-1)\n",
    "    counts_single = defaultdict(lambda: 1.0)\n",
    "    counts_pairs = defaultdict(lambda: defaultdict(float))\n",
    "    \n",
    "    # e step\n",
    "    for n in range(len(train_source_corpus)):\n",
    "        source_sentence = train_source_corpus[n]\n",
    "        target_sentence = train_target_corpus[n]\n",
    "        \n",
    "        for source_word in source_sentence: \n",
    "            normalization = sum([lambda_dict[source_word][target_word] for target_word in target_sentence])\n",
    "            for target_word in target_sentence: \n",
    "                theta_dict[source_word][target_word] = np.exp(digamma(lambda_dict[source_word][target_word]) - \\\n",
    "                                                              digamma(normalization))\n",
    "    # m step    \n",
    "    for source_word in english_vocab: \n",
    "        target_words = lambda_dict[source_word].keys()\n",
    "        for target_word in target_words:\n",
    "            lambda_dict[source_word][target_word] = alpha + theta_dict[source_word][target_word]\n",
    "    \n",
    "    elbo_iter = elbo(theta_dict, lambda_dict, train_source_corpus, train_target_corpus, alpha)\n",
    "    print(elbo_iter)"
   ]
  },
  {
   "cell_type": "code",
   "execution_count": 36,
   "metadata": {
    "collapsed": false
   },
   "outputs": [
    {
     "name": "stdout",
     "output_type": "stream",
     "text": [
      "sénateurs\n"
     ]
    },
    {
     "data": {
      "text/plain": [
       "0.46825060387463785"
      ]
     },
     "execution_count": 36,
     "metadata": {},
     "output_type": "execute_result"
    }
   ],
   "source": [
    "import operator \n",
    "\n",
    "print(max(lambda_dict['the'].items(), key=operator.itemgetter(1))[0])\n",
    "lambda_dict['the']['sénateurs']"
   ]
  },
  {
   "cell_type": "code",
   "execution_count": 37,
   "metadata": {
    "collapsed": false
   },
   "outputs": [
    {
     "data": {
      "text/plain": [
       "-19030.957387138806"
      ]
     },
     "execution_count": 37,
     "metadata": {},
     "output_type": "execute_result"
    }
   ],
   "source": [
    "compute_perplexity(theta_dict, train_source_corpus, train_target_corpus)"
   ]
  },
  {
   "cell_type": "code",
   "execution_count": 40,
   "metadata": {
    "collapsed": false
   },
   "outputs": [],
   "source": []
  },
  {
   "cell_type": "code",
   "execution_count": null,
   "metadata": {
    "collapsed": true
   },
   "outputs": [],
   "source": []
  }
 ],
 "metadata": {
  "anaconda-cloud": {},
  "kernelspec": {
   "display_name": "Python [Root]",
   "language": "python",
   "name": "Python [Root]"
  },
  "language_info": {
   "codemirror_mode": {
    "name": "ipython",
    "version": 3
   },
   "file_extension": ".py",
   "mimetype": "text/x-python",
   "name": "python",
   "nbconvert_exporter": "python",
   "pygments_lexer": "ipython3",
   "version": "3.5.2"
  }
 },
 "nbformat": 4,
 "nbformat_minor": 2
}
